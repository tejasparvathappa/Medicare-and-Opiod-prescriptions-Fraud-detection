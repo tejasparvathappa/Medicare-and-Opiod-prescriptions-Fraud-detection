{
 "cells": [
  {
   "cell_type": "code",
   "execution_count": 1,
   "metadata": {},
   "outputs": [],
   "source": [
    "from pyspark import SparkContext\n",
    "from pyspark.sql import SQLContext\n",
    "from pyspark.sql.types import *\n",
    "from pyspark.sql.functions import *\n",
    "from pyspark.sql import functions as func\n",
    "\n"
   ]
  },
  {
   "cell_type": "code",
   "execution_count": 2,
   "metadata": {},
   "outputs": [],
   "source": [
    "sc = SparkContext(\"local\", \"HealthCareCapstone\")\n",
    "sqlContext = SQLContext(sc)\n",
    "\n",
    "                       "
   ]
  },
  {
   "cell_type": "code",
   "execution_count": 3,
   "metadata": {},
   "outputs": [],
   "source": [
    "# load the dataset\n",
    "#  1. Part D drug 2016 dataset \n",
    "#     https://data.cms.gov/Medicare-Part-D/Medicare-Provider-Utilization-and-Payment-Data-201/yvpj-pmj2\n",
    "#  2. CMS Payment Data Set  \n",
    "#     https://www.cms.gov/OpenPayments/Explore-the-Data/Dataset-Downloads.html#\n",
    "#  3. EXCLUEDED Datavset\n",
    "#     https://oig.hhs.gov/exclusions/exclusions_list.asp \n",
    "#  4. Opioids drugs and opioids prescriber information\n",
    "\n",
    "partD_drug_rawdata = sc.textFile(\"/Users/my_macbook/Projects/Project_Capstone/DataSet/PartD_Drug_16/PartD_Drug_16.txt\")\n",
    "#partD_pres_rawdata = sc.textFile(\"/Users/my_macbook/Projects/Project_Capstone/DataSet/PartD_Prescriber_16/PartD_Prescriber_16.txt\")\n",
    "payment_rawdata = sqlContext.read.csv(\"/Users/my_macbook/Projects/Project_Capstone/DataSet/2017Payment/OP_DTL_GNRL_PGYR2017_P06292018.csv\", \\\n",
    "                                       header = True, inferSchema = True)\n",
    "IELE_rawdata = sqlContext.read.csv(\"/Users/my_macbook/Projects/Project_Capstone/DataSet/2018UpdatedLEIE.csv\", \\\n",
    "                                       header = True, inferSchema = True)\n",
    "Opioids_drugs = sqlContext.read.csv(\"/Users/my_macbook/Projects/Project_Capstone/DataSet/opioids.csv\", \\\n",
    "                                       header = True, inferSchema = True)\n",
    "Opioids_Prescriber = sqlContext.read.csv(\"/Users/my_macbook/Projects/Project_Capstone/DataSet/opioids_prescriber_info.csv\", \\\n",
    "                                       header = True, inferSchema = True)\n"
   ]
  },
  {
   "cell_type": "code",
   "execution_count": 4,
   "metadata": {},
   "outputs": [],
   "source": [
    "# PAYMENT DATA PREPARATION\n",
    "payment_features_df = payment_rawdata.select([\"Physician_First_Name\",\\\n",
    "                                             \"Physician_Last_Name\", \\\n",
    "                                             \"Recipient_City\", \\\n",
    "                                             \"Recipient_State\", \\\n",
    "                                             \"Total_Amount_of_Payment_USDollars\"])\n",
    "#payment_features_df.show()\n",
    "\n"
   ]
  },
  {
   "cell_type": "code",
   "execution_count": 5,
   "metadata": {},
   "outputs": [],
   "source": [
    "payment_features_df = payment_features_df.withColumn(\"Total_Amount_of_Payment_USDollars\",payment_features_df[\"Total_Amount_of_Payment_USDollars\"].cast(DoubleType()))\n",
    "\n",
    "payment_features_gourpbyTotal_df = payment_features_df.groupBy(\"Physician_First_Name\",\"Physician_Last_Name\",\"Recipient_City\",\"Recipient_State\").sum(\"Total_Amount_of_Payment_USDollars\")\n",
    "\n"
   ]
  },
  {
   "cell_type": "code",
   "execution_count": 6,
   "metadata": {},
   "outputs": [
    {
     "name": "stdout",
     "output_type": "stream",
     "text": [
      "+--------------------+-------------------+--------------+---------------+--------------------------------------+\n",
      "|Physician_First_Name|Physician_Last_Name|Recipient_City|Recipient_State|sum(Total_Amount_of_Payment_USDollars)|\n",
      "+--------------------+-------------------+--------------+---------------+--------------------------------------+\n",
      "|               SARAH|               AZAD| MOUNTAIN VIEW|             CA|                                293.92|\n",
      "|               Laxmi|              Berwa|       Clinton|             MD|                                190.44|\n",
      "|             Prabodh|              Mehta| Elizabethtown|             KY|                                132.92|\n",
      "|             William|              Laird|        Dallas|             TX|                                 24.31|\n",
      "|              Preeti|              Desai|        Conroe|             TX|                                  65.6|\n",
      "|                ERIC|            SCHROER|      HILLIARD|             OH|                     956.8499999999997|\n",
      "|           ELIZABETH|              TANZI|     BALTIMORE|             MD|                                4155.8|\n",
      "|         CHRISTOPHER|            STEVENS|       SUWANEE|             GA|                                 55.55|\n",
      "|               AHMED|             YOUSRY|   JERSEY CITY|             NJ|                    226.83999999999997|\n",
      "|              CARRIE|         FUNKHAUSER|MOUNT PLEASANT|             SC|                                 15.43|\n",
      "|                JOHN|            O NEILL|      BETHESDA|             MD|                                151.12|\n",
      "|                MARY|            WITTMAN|      KIRKLAND|             WA|                                191.86|\n",
      "|               KUDUS|             AKINDE|       GLENCOE|             IL|                                 21.32|\n",
      "|               BRIAN|           MINNILLO|      LA JOLLA|             CA|                    490.36000000000007|\n",
      "|                DAWN|            TROLLIP|       RALEIGH|             NC|                                261.25|\n",
      "|             ALLISON|              MABUS|   FRUITE COVE|             FL|                    207.32000000000002|\n",
      "|              DEANNA|           PAROBECK|    CINCINNATI|             OH|                                292.05|\n",
      "|             MONIQUE|           KADEMIAN|      COLUMBUS|             OH|                                489.41|\n",
      "|               TERRY|          TREISTMAN|          KATY|             TX|                                200.99|\n",
      "|           CHRISTINE|              AMBRO|     ANNAPOLIS|             MD|                     918.7799999999997|\n",
      "+--------------------+-------------------+--------------+---------------+--------------------------------------+\n",
      "only showing top 20 rows\n",
      "\n"
     ]
    }
   ],
   "source": [
    "payment_features_gourpbyTotal_df.show()"
   ]
  },
  {
   "cell_type": "code",
   "execution_count": 6,
   "metadata": {},
   "outputs": [
    {
     "name": "stdout",
     "output_type": "stream",
     "text": [
      "+-----------+----------+--------------+-----+-----------------------+\n",
      "| first_name| last_name|          city|state|Total_Amount_of_Payment|\n",
      "+-----------+----------+--------------+-----+-----------------------+\n",
      "|      SARAH|      AZAD| MOUNTAIN VIEW|   CA|                 293.92|\n",
      "|      Laxmi|     Berwa|       Clinton|   MD|                 190.44|\n",
      "|    Prabodh|     Mehta| Elizabethtown|   KY|                 132.92|\n",
      "|    William|     Laird|        Dallas|   TX|                  24.31|\n",
      "|     Preeti|     Desai|        Conroe|   TX|                   65.6|\n",
      "|       ERIC|   SCHROER|      HILLIARD|   OH|      956.8499999999997|\n",
      "|  ELIZABETH|     TANZI|     BALTIMORE|   MD|                 4155.8|\n",
      "|CHRISTOPHER|   STEVENS|       SUWANEE|   GA|                  55.55|\n",
      "|      AHMED|    YOUSRY|   JERSEY CITY|   NJ|     226.83999999999997|\n",
      "|     CARRIE|FUNKHAUSER|MOUNT PLEASANT|   SC|                  15.43|\n",
      "|       JOHN|   O NEILL|      BETHESDA|   MD|                 151.12|\n",
      "|       MARY|   WITTMAN|      KIRKLAND|   WA|                 191.86|\n",
      "|      KUDUS|    AKINDE|       GLENCOE|   IL|                  21.32|\n",
      "|      BRIAN|  MINNILLO|      LA JOLLA|   CA|     490.36000000000007|\n",
      "|       DAWN|   TROLLIP|       RALEIGH|   NC|                 261.25|\n",
      "|    ALLISON|     MABUS|   FRUITE COVE|   FL|     207.32000000000002|\n",
      "|     DEANNA|  PAROBECK|    CINCINNATI|   OH|                 292.05|\n",
      "|    MONIQUE|  KADEMIAN|      COLUMBUS|   OH|                 489.41|\n",
      "|      TERRY| TREISTMAN|          KATY|   TX|                 200.99|\n",
      "|  CHRISTINE|     AMBRO|     ANNAPOLIS|   MD|      918.7799999999997|\n",
      "+-----------+----------+--------------+-----+-----------------------+\n",
      "only showing top 20 rows\n",
      "\n"
     ]
    }
   ],
   "source": [
    "payment_features_gourpbyTotal_df = payment_features_gourpbyTotal_df.withColumnRenamed(\"Physician_First_Name\" , \"first_name\")\n",
    "payment_features_gourpbyTotal_df = payment_features_gourpbyTotal_df.withColumnRenamed(\"Physician_Last_Name\" , \"last_name\")\n",
    "payment_features_gourpbyTotal_df = payment_features_gourpbyTotal_df.withColumnRenamed(\"Recipient_City\" , \"city\")\n",
    "payment_features_gourpbyTotal_df = payment_features_gourpbyTotal_df.withColumnRenamed(\"Recipient_State\" , \"state\")\n",
    "payment_features_gourpbyTotal_df = payment_features_gourpbyTotal_df.withColumnRenamed(\"sum(Total_Amount_of_Payment_USDollars)\" , \"Total_Amount_of_Payment\")\n",
    "\n",
    "payment_features_gourpbyTotal_df.show()"
   ]
  },
  {
   "cell_type": "code",
   "execution_count": 7,
   "metadata": {},
   "outputs": [],
   "source": [
    "payment_features_gourpbyTotal_df = payment_features_gourpbyTotal_df.sort(payment_features_gourpbyTotal_df.Total_Amount_of_Payment.desc())\n"
   ]
  },
  {
   "cell_type": "code",
   "execution_count": 8,
   "metadata": {},
   "outputs": [
    {
     "name": "stdout",
     "output_type": "stream",
     "text": [
      "+----------+----------+-------------+-----+-----------------------+\n",
      "|first_name| last_name|         city|state|Total_Amount_of_Payment|\n",
      "+----------+----------+-------------+-----+-----------------------+\n",
      "|      null|      null|       DUARTE|   CA|         4.0078907511E8|\n",
      "|      null|      null|       BOSTON|   MA|    5.974409932000001E7|\n",
      "|      null|      null|        Phila|   PA|   3.3104393040000003E7|\n",
      "|     JAMES|    GAMMIE|    Baltimore|   MD|           2.68435298E7|\n",
      "|   STEPHEN|  BURKHART|  SAN ANTONIO|   TX|          2.296924526E7|\n",
      "|   CHARLES|    GOODIS|  ALBUQUERQUE|   NM|   2.2880446670000006E7|\n",
      "|      null|      null|  LOS ANGELES|   CA|          1.722602166E7|\n",
      "|     KEVIN|     FOLEY|      Memphis|   TN|          1.703851275E7|\n",
      "|      null|      null|   Hackensack|   NJ|          1.509109387E7|\n",
      "|      null|      null|       Boston|   MA|   1.2392886729999997E7|\n",
      "|      null|      null|  Los Angeles|   CA|          1.113067121E7|\n",
      "|      IVAN|    OSORIO|  KANSAS CITY|   KS|      8740393.579999998|\n",
      "|      null|      null|    ANN ARBOR|   MI|             8435977.19|\n",
      "|      null|      null|    CLEVELAND|   OH|      8259631.249999999|\n",
      "|      null|      null|      Houston|   TX|      7973669.969999999|\n",
      "|      null|      null|       ORANGE|   CA|      7478583.959999999|\n",
      "|      NEAL|ELATTRACHE|  LOS ANGELES|   CA|             7036903.64|\n",
      "|   WILLIAM|    BINDER|BEVERLY HILLS|   CA|             6638314.61|\n",
      "|      null|      null|      HOUSTON|   TX|             6442931.86|\n",
      "|      null|      null|    ROYAL OAK|   MI|             6190225.12|\n",
      "+----------+----------+-------------+-----+-----------------------+\n",
      "only showing top 20 rows\n",
      "\n"
     ]
    }
   ],
   "source": [
    "payment_features_gourpbyTotal_df.show()"
   ]
  },
  {
   "cell_type": "code",
   "execution_count": 9,
   "metadata": {},
   "outputs": [
    {
     "name": "stdout",
     "output_type": "stream",
     "text": [
      "+----------+----------------------------+-------------------------+-------------------+--------------------+---------------------+----------------+--------------------+--------------------+----------+-----------------+-----------------------+----------------+---------------+---------------+-----------------------------+----------------------+------------------+----------------------------+---------------------+--------------------+\n",
      "|       npi|nppes_provider_last_org_name|nppes_provider_first_name|nppes_provider_city|nppes_provider_state|specialty_description|description_flag|           drug_name|        generic_name|bene_count|total_claim_count|total_30_day_fill_count|total_day_supply|total_drug_cost|bene_count_ge65|bene_count_ge65_suppress_flag|total_claim_count_ge65|ge65_suppress_flag|total_30_day_fill_count_ge65|total_day_supply_ge65|total_drug_cost_ge65|\n",
      "+----------+----------------------------+-------------------------+-------------------+--------------------+---------------------+----------------+--------------------+--------------------+----------+-----------------+-----------------------+----------------+---------------+---------------+-----------------------------+----------------------+------------------+----------------------------+---------------------+--------------------+\n",
      "|1003000126|                   ENKESHAFI|                  ARDALAN|         CUMBERLAND|                  MD|    Internal Medicine|               S|ATORVASTATIN CALCIUM|ATORVASTATIN CALCIUM|          |               13|                     15|             450|         139.32|               |                            *|                    13|                  |                          15|                  450|              139.32|\n",
      "|1003000126|                   ENKESHAFI|                  ARDALAN|         CUMBERLAND|                  MD|    Internal Medicine|               S|   CIPROFLOXACIN HCL|   CIPROFLOXACIN HCL|          |               11|                     11|              96|          80.99|               |                            *|                      |                 *|                            |                     |                    |\n",
      "|1003000126|                   ENKESHAFI|                  ARDALAN|         CUMBERLAND|                  MD|    Internal Medicine|               S| DOXYCYCLINE HYCLATE| DOXYCYCLINE HYCLATE|        20|               20|                     20|             199|         586.12|               |                            #|                      |                 #|                            |                     |                    |\n",
      "|1003000126|                   ENKESHAFI|                  ARDALAN|         CUMBERLAND|                  MD|    Internal Medicine|               S|             ELIQUIS|            APIXABAN|          |               17|                     17|             510|        6065.02|               |                            *|                    17|                  |                          17|                  510|             6065.02|\n",
      "|1003000126|                   ENKESHAFI|                  ARDALAN|         CUMBERLAND|                  MD|    Internal Medicine|               S|          FUROSEMIDE|          FUROSEMIDE|        12|               17|                     17|             405|          45.76|               |                            #|                      |                 #|                            |                     |                    |\n",
      "|1003000126|                   ENKESHAFI|                  ARDALAN|         CUMBERLAND|                  MD|    Internal Medicine|               S|     HYDRALAZINE HCL|     HYDRALAZINE HCL|          |               16|                     16|             420|         169.48|               |                            #|                      |                 #|                            |                     |                    |\n",
      "|1003000126|                   ENKESHAFI|                  ARDALAN|         CUMBERLAND|                  MD|    Internal Medicine|               S|ISOSORBIDE MONONI...|ISOSORBIDE MONONI...|        16|               33|                     35|            1005|         372.63|               |                            #|                      |                 #|                            |                     |                    |\n",
      "|1003000126|                   ENKESHAFI|                  ARDALAN|         CUMBERLAND|                  MD|    Internal Medicine|               S|        LEVOFLOXACIN|        LEVOFLOXACIN|        26|               26|                     26|             159|         222.41|               |                            #|                      |                 #|                            |                     |                    |\n",
      "|1003000126|                   ENKESHAFI|                  ARDALAN|         CUMBERLAND|                  MD|    Internal Medicine|               S|          LISINOPRIL|          LISINOPRIL|        14|               31|                     32|             960|         129.24|               |                            #|                      |                 #|                            |                     |                    |\n",
      "|1003000126|                   ENKESHAFI|                  ARDALAN|         CUMBERLAND|                  MD|    Internal Medicine|               S| METOPROLOL TARTRATE| METOPROLOL TARTRATE|        14|               33|                     37|            1050|         183.29|             14|                             |                    33|                  |                          37|                 1050|              183.29|\n",
      "|1003000126|                   ENKESHAFI|                  ARDALAN|         CUMBERLAND|                  MD|    Internal Medicine|               S|       METRONIDAZOLE|       METRONIDAZOLE|        11|               12|                     12|             127|         152.66|             11|                             |                    12|                  |                          12|                  127|              152.66|\n",
      "|1003000126|                   ENKESHAFI|                  ARDALAN|         CUMBERLAND|                  MD|    Internal Medicine|               S| PANTOPRAZOLE SODIUM| PANTOPRAZOLE SODIUM|          |               15|                     15|             450|         140.83|               |                            #|                      |                 #|                            |                     |                    |\n",
      "|1003000126|                   ENKESHAFI|                  ARDALAN|         CUMBERLAND|                  MD|    Internal Medicine|               S|          PREDNISONE|          PREDNISONE|        17|               20|                     20|             121|          59.96|               |                            #|                      |                 #|                            |                     |                    |\n",
      "|1003000126|                   ENKESHAFI|                  ARDALAN|         CUMBERLAND|                  MD|    Internal Medicine|               S|     WARFARIN SODIUM|     WARFARIN SODIUM|          |               12|                     12|             236|         197.69|               |                            *|                    12|                  |                          12|                  236|              197.69|\n",
      "|1003000126|                   ENKESHAFI|                  ARDALAN|         CUMBERLAND|                  MD|    Internal Medicine|               S|             XARELTO|         RIVAROXABAN|        12|               34|                     34|             943|        12110.2|               |                            #|                      |                 #|                            |                     |                    |\n",
      "|1003000142|                      KHALIL|                   RASHID|             TOLEDO|                  OH|       Anesthesiology|               S|ACETAMINOPHEN-COD...|ACETAMINOPHEN WIT...|        17|               51|                     51|            1398|         577.96|               |                            #|                    37|                  |                          37|                  978|              437.25|\n",
      "|1003000142|                      KHALIL|                   RASHID|             TOLEDO|                  OH|       Anesthesiology|               S|   AMITRIPTYLINE HCL|   AMITRIPTYLINE HCL|          |               29|                     29|             870|          254.2|              0|                             |                     0|                  |                           0|                    0|                   0|\n",
      "|1003000142|                      KHALIL|                   RASHID|             TOLEDO|                  OH|       Anesthesiology|               S|            BACLOFEN|            BACLOFEN|        43|              104|                    112|            3194|        2106.97|             17|                             |                    31|                  |                          31|                  890|              484.56|\n",
      "|1003000142|                      KHALIL|                   RASHID|             TOLEDO|                  OH|       Anesthesiology|               S|             BUTRANS|       BUPRENORPHINE|        19|               63|                     63|            1764|       24514.23|               |                            #|                    41|                  |                          41|                 1150|            16188.72|\n",
      "|1003000142|                      KHALIL|                   RASHID|             TOLEDO|                  OH|       Anesthesiology|               S| CYCLOBENZAPRINE HCL| CYCLOBENZAPRINE HCL|          |               11|                     11|             300|          31.88|               |                            *|                      |                 *|                            |                     |                    |\n",
      "+----------+----------------------------+-------------------------+-------------------+--------------------+---------------------+----------------+--------------------+--------------------+----------+-----------------+-----------------------+----------------+---------------+---------------+-----------------------------+----------------------+------------------+----------------------------+---------------------+--------------------+\n",
      "only showing top 20 rows\n",
      "\n"
     ]
    }
   ],
   "source": [
    "# Part D drug data Preparation \n",
    "\n",
    "header = partD_drug_rawdata.first()\n",
    "partD_drug_rawdata =partD_drug_rawdata.filter (lambda line: line != header)\n",
    "\n",
    "temp_var = partD_drug_rawdata.map(lambda k: k.split(\"\\t\"))\n",
    "partD_Drug_df = temp_var.toDF(header.split(\"\\t\"))\n",
    "partD_Drug_df.show()\n",
    "\n",
    "\n",
    "partD_Drug_df = partD_Drug_df.withColumn(\"bene_count\",partD_Drug_df[\"bene_count\"].cast(DoubleType()))\n",
    "partD_Drug_df = partD_Drug_df.withColumn(\"total_claim_count\",partD_Drug_df[\"total_claim_count\"].cast(DoubleType()))\n",
    "partD_Drug_df = partD_Drug_df.withColumn(\"total_30_day_fill_count\",partD_Drug_df[\"total_30_day_fill_count\"].cast(DoubleType()))\n",
    "partD_Drug_df = partD_Drug_df.withColumn(\"total_day_supply\",partD_Drug_df[\"total_day_supply\"].cast(DoubleType()))\n",
    "partD_Drug_df = partD_Drug_df.withColumn(\"total_drug_cost\",partD_Drug_df[\"total_drug_cost\"].cast(DoubleType()))\n",
    "partD_Drug_df = partD_Drug_df.withColumn(\"bene_count_ge65\",partD_Drug_df[\"bene_count_ge65\"].cast(DoubleType()))\n",
    "partD_Drug_df = partD_Drug_df.withColumn(\"total_claim_count_ge65\",partD_Drug_df[\"total_claim_count_ge65\"].cast(DoubleType()))\n",
    "partD_Drug_df = partD_Drug_df.withColumn(\"total_30_day_fill_count_ge65\",partD_Drug_df[\"total_30_day_fill_count_ge65\"].cast(DoubleType()))\n",
    "partD_Drug_df = partD_Drug_df.withColumn(\"total_day_supply_ge65\",partD_Drug_df[\"total_day_supply_ge65\"].cast(DoubleType()))\n",
    "partD_Drug_df = partD_Drug_df.withColumn(\"total_drug_cost_ge65\",partD_Drug_df[\"total_drug_cost_ge65\"].cast(DoubleType()))\n",
    "\n",
    "\n",
    "\n",
    "\n",
    "\n",
    "\n"
   ]
  },
  {
   "cell_type": "code",
   "execution_count": 10,
   "metadata": {},
   "outputs": [
    {
     "data": {
      "text/plain": [
       "Row(npi='1003000126', nppes_provider_last_org_name='ENKESHAFI', nppes_provider_first_name='ARDALAN', nppes_provider_city='CUMBERLAND', nppes_provider_state='MD', specialty_description='Internal Medicine', description_flag='S', drug_name='ATORVASTATIN CALCIUM', generic_name='ATORVASTATIN CALCIUM', bene_count=None, total_claim_count=13.0, total_30_day_fill_count=15.0, total_day_supply=450.0, total_drug_cost=139.32, bene_count_ge65=None, bene_count_ge65_suppress_flag='*', total_claim_count_ge65=13.0, ge65_suppress_flag='', total_30_day_fill_count_ge65=15.0, total_day_supply_ge65=450.0, total_drug_cost_ge65=139.32)"
      ]
     },
     "execution_count": 10,
     "metadata": {},
     "output_type": "execute_result"
    }
   ],
   "source": [
    "partD_Drug_df.head()"
   ]
  },
  {
   "cell_type": "code",
   "execution_count": 11,
   "metadata": {
    "scrolled": true
   },
   "outputs": [
    {
     "name": "stdout",
     "output_type": "stream",
     "text": [
      "root\n",
      " |-- npi: string (nullable = true)\n",
      " |-- nppes_provider_last_org_name: string (nullable = true)\n",
      " |-- nppes_provider_first_name: string (nullable = true)\n",
      " |-- nppes_provider_city: string (nullable = true)\n",
      " |-- nppes_provider_state: string (nullable = true)\n",
      " |-- specialty_description: string (nullable = true)\n",
      " |-- description_flag: string (nullable = true)\n",
      " |-- drug_name: string (nullable = true)\n",
      " |-- generic_name: string (nullable = true)\n",
      " |-- bene_count: double (nullable = true)\n",
      " |-- total_claim_count: double (nullable = true)\n",
      " |-- total_30_day_fill_count: double (nullable = true)\n",
      " |-- total_day_supply: double (nullable = true)\n",
      " |-- total_drug_cost: double (nullable = true)\n",
      " |-- bene_count_ge65: double (nullable = true)\n",
      " |-- bene_count_ge65_suppress_flag: string (nullable = true)\n",
      " |-- total_claim_count_ge65: double (nullable = true)\n",
      " |-- ge65_suppress_flag: string (nullable = true)\n",
      " |-- total_30_day_fill_count_ge65: double (nullable = true)\n",
      " |-- total_day_supply_ge65: double (nullable = true)\n",
      " |-- total_drug_cost_ge65: double (nullable = true)\n",
      "\n"
     ]
    }
   ],
   "source": [
    "partD_Drug_df.printSchema()"
   ]
  },
  {
   "cell_type": "code",
   "execution_count": 11,
   "metadata": {},
   "outputs": [],
   "source": [
    "partD_Drug_features_df = partD_Drug_df.select([\"npi\",\\\n",
    "                                               \"nppes_provider_city\",\\\n",
    "                                               \"nppes_provider_state\", \\\n",
    "                                               \"nppes_provider_last_org_name\", \\\n",
    "                                               \"nppes_provider_first_name\", \\\n",
    "                                               \"specialty_description\",\\\n",
    "                                               \"drug_name\", \\\n",
    "                                               \"generic_name\",\\\n",
    "                                               \"total_drug_cost\",\\\n",
    "                                               \"total_claim_count\",\\\n",
    "                                               \"total_day_supply\"])\n",
    "\n",
    "partD_Drug_featuresGroupbyNPI_df = partD_Drug_features_df.groupBy(\"npi\",\\\n",
    "                                                                 \"nppes_provider_city\",\\\n",
    "                                                                 \"nppes_provider_state\", \\\n",
    "                                                                 \"nppes_provider_last_org_name\", \\\n",
    "                                                                 \"nppes_provider_first_name\", \\\n",
    "                                                                 \"specialty_description\",\\\n",
    "                                                                 \"drug_name\", \\\n",
    "                                                                 \"generic_name\")\\\n",
    "                                                                         .agg(func.sum(\"total_drug_cost\"),\\\n",
    "                                                                              func.sum(\"total_claim_count\"),\\\n",
    "                                                                              func.sum(\"total_day_supply\"), \\\n",
    "                                                                              func.variance(\"total_drug_cost\"),\\\n",
    "                                                                              func.variance(\"total_claim_count\"),\\\n",
    "                                                                              func.variance(\"total_day_supply\"),\\\n",
    "                                                                              func.max(\"total_drug_cost\"),\\\n",
    "                                                                              func.max(\"total_claim_count\"),\\\n",
    "                                                                              func.max(\"total_day_supply\"),\\\n",
    "                                                                             )\n",
    "\n",
    "\n",
    "partD_Drug_featuresGroupbyNPI_df = partD_Drug_featuresGroupbyNPI_df.withColumnRenamed(\"nppes_provider_first_name\" , \"first_name\")\n",
    "partD_Drug_featuresGroupbyNPI_df = partD_Drug_featuresGroupbyNPI_df.withColumnRenamed(\"nppes_provider_last_org_name\" , \"last_name\")\n",
    "partD_Drug_featuresGroupbyNPI_df = partD_Drug_featuresGroupbyNPI_df.withColumnRenamed(\"nppes_provider_city\" , \"city\")\n",
    "partD_Drug_featuresGroupbyNPI_df = partD_Drug_featuresGroupbyNPI_df.withColumnRenamed(\"nppes_provider_state\" , \"state\")"
   ]
  },
  {
   "cell_type": "code",
   "execution_count": 13,
   "metadata": {
    "scrolled": false
   },
   "outputs": [
    {
     "name": "stdout",
     "output_type": "stream",
     "text": [
      "+----------+---------------+-----+---------------+----------+---------------------+--------------------+--------------------+--------------------+----------------------+---------------------+-------------------------+---------------------------+--------------------------+--------------------+----------------------+---------------------+\n",
      "|       npi|           city|state|      last_name|first_name|specialty_description|           drug_name|        generic_name|sum(total_drug_cost)|sum(total_claim_count)|sum(total_day_supply)|var_samp(total_drug_cost)|var_samp(total_claim_count)|var_samp(total_day_supply)|max(total_drug_cost)|max(total_claim_count)|max(total_day_supply)|\n",
      "+----------+---------------+-----+---------------+----------+---------------------+--------------------+--------------------+--------------------+----------------------+---------------------+-------------------------+---------------------------+--------------------------+--------------------+----------------------+---------------------+\n",
      "|1003000902|     LOUISVILLE|   KY|         LOHANO|  JAIVANTI|      Family Practice|HYDROCODONE-ACETA...|HYDROCODONE/ACETA...|              515.38|                  34.0|                900.0|                      NaN|                        NaN|                       NaN|              515.38|                  34.0|                900.0|\n",
      "|1003000902|     LOUISVILLE|   KY|         LOHANO|  JAIVANTI|      Family Practice|      PENTOXIFYLLINE|      PENTOXIFYLLINE|              103.12|                  12.0|                360.0|                      NaN|                        NaN|                       NaN|              103.12|                  12.0|                360.0|\n",
      "|1003001132|SAN LUIS OBISPO|   CA|    VIGGIANELLI|   MICHAEL|      Family Practice|ATORVASTATIN CALCIUM|ATORVASTATIN CALCIUM|              345.55|                  14.0|               1260.0|                      NaN|                        NaN|                       NaN|              345.55|                  14.0|               1260.0|\n",
      "|1003001363|      EL CENTRO|   CA|        STEVENS|   CHARLES|       Anesthesiology|       METHADONE HCL|       METHADONE HCL|             1050.05|                  34.0|               1020.0|                      NaN|                        NaN|                       NaN|             1050.05|                  34.0|               1020.0|\n",
      "|1003001868|     HARRISBURG|   NC|         LINKER|    PAMELA|              Dentist|          CEPHALEXIN|          CEPHALEXIN|               43.11|                  14.0|                 22.0|                      NaN|                        NaN|                       NaN|               43.11|                  14.0|                 22.0|\n",
      "|1003005661|     WASHINGTON|   DC|       OKETOKUN| ADEFOLAJU|     General Practice|       CLONIDINE HCL|       CLONIDINE HCL|               40.48|                  16.0|                451.0|                      NaN|                        NaN|                       NaN|               40.48|                  16.0|                451.0|\n",
      "|1003006172|  OKLAHOMA CITY|   OK|QUEZADA JOAQUIN|    NESTOR|    Internal Medicine|             TRIUMEQ|ABACAVIR/DOLUTEGR...|            65463.87|                  27.0|                810.0|                      NaN|                        NaN|                       NaN|            65463.87|                  27.0|                810.0|\n",
      "|1003007048|     SCOTTSDALE|   AZ|     FEREIDOUNI|       SAM|      Family Practice|HUMALOG KWIKPEN U...|      INSULIN LISPRO|             5941.67|                  12.0|                483.0|                      NaN|                        NaN|                       NaN|             5941.67|                  12.0|                483.0|\n",
      "|1003007287|    BAKERSFIELD|   CA|           GINN|  MICHAELA|    Internal Medicine| CYCLOBENZAPRINE HCL| CYCLOBENZAPRINE HCL|               15.68|                  12.0|                360.0|                      NaN|                        NaN|                       NaN|               15.68|                  12.0|                360.0|\n",
      "|1003007287|    BAKERSFIELD|   CA|           GINN|  MICHAELA|    Internal Medicine|       TRAZODONE HCL|       TRAZODONE HCL|              319.77|                  26.0|                766.0|                      NaN|                        NaN|                       NaN|              319.77|                  26.0|                766.0|\n",
      "|1003009218|      MORRILTON|   AR|          NOLEN|     JAMES|      Family Practice|            ATENOLOL|            ATENOLOL|              465.39|                 160.0|               6540.0|                      NaN|                        NaN|                       NaN|              465.39|                 160.0|               6540.0|\n",
      "|1003009218|      MORRILTON|   AR|          NOLEN|     JAMES|      Family Practice|            DIAZEPAM|            DIAZEPAM|              299.93|                  83.0|               2467.0|                      NaN|                        NaN|                       NaN|              299.93|                  83.0|               2467.0|\n",
      "|1003009218|      MORRILTON|   AR|          NOLEN|     JAMES|      Family Practice|ROSUVASTATIN CALCIUM|ROSUVASTATIN CALCIUM|             2326.95|                  36.0|               1320.0|                      NaN|                        NaN|                       NaN|             2326.95|                  36.0|               1320.0|\n",
      "|1003009218|      MORRILTON|   AR|          NOLEN|     JAMES|      Family Practice|           VALSARTAN|           VALSARTAN|              330.64|                  19.0|                570.0|                      NaN|                        NaN|                       NaN|              330.64|                  19.0|                570.0|\n",
      "|1003009705|        PHOENIX|   AZ|    WOODS-GRIMM|    SERENA|      Family Practice|       METFORMIN HCL|       METFORMIN HCL|               73.49|                  12.0|                604.0|                      NaN|                        NaN|                       NaN|               73.49|                  12.0|                604.0|\n",
      "|1003010786|      AMSTERDAM|   NY|         CRONIN|      JERI|   Nurse Practitioner|  COMBIVENT RESPIMAT|IPRATROPIUM/ALBUT...|             4980.96|                  14.0|                480.0|                      NaN|                        NaN|                       NaN|             4980.96|                  14.0|                480.0|\n",
      "|1003010786|      AMSTERDAM|   NY|         CRONIN|      JERI|   Nurse Practitioner|  LOSARTAN POTASSIUM|  LOSARTAN POTASSIUM|              1219.7|                 117.0|               8970.0|                      NaN|                        NaN|                       NaN|              1219.7|                 117.0|               8970.0|\n",
      "|1003010950|FOUNTAIN VALLEY|   CA|         ARTHUR|  KRISTINE|    Internal Medicine|      SERTRALINE HCL|      SERTRALINE HCL|              457.35|                  57.0|               2250.0|                      NaN|                        NaN|                       NaN|              457.35|                  57.0|               2250.0|\n",
      "|1003011214|      BALTIMORE|   MD|          BAJAJ|BHAVANDEEP|    Internal Medicine|          LOVASTATIN|          LOVASTATIN|               65.41|                  11.0|                690.0|                      NaN|                        NaN|                       NaN|               65.41|                  11.0|                690.0|\n",
      "|1003012428|     CRITTENDEN|   KY|          PATEL|     VIRAL|      Family Practice|       CLONIDINE HCL|       CLONIDINE HCL|              335.48|                  44.0|               2410.0|                      NaN|                        NaN|                       NaN|              335.48|                  44.0|               2410.0|\n",
      "+----------+---------------+-----+---------------+----------+---------------------+--------------------+--------------------+--------------------+----------------------+---------------------+-------------------------+---------------------------+--------------------------+--------------------+----------------------+---------------------+\n",
      "only showing top 20 rows\n",
      "\n"
     ]
    }
   ],
   "source": [
    "partD_Drug_featuresGroupbyNPI_df.show()"
   ]
  },
  {
   "cell_type": "code",
   "execution_count": null,
   "metadata": {},
   "outputs": [],
   "source": []
  },
  {
   "cell_type": "code",
   "execution_count": null,
   "metadata": {},
   "outputs": [],
   "source": [
    "# EXCLUDED Data Preparation"
   ]
  },
  {
   "cell_type": "code",
   "execution_count": 13,
   "metadata": {},
   "outputs": [
    {
     "name": "stdout",
     "output_type": "stream",
     "text": [
      "+----+----+---+------------------------+------------------+---------------+----+----------+----+--------------------+---------+---+-----+------+--------+---+---+----+\n",
      "| _c0| _c1|   |14 LAWRENCE AVE PHARMACY|          PHARMACY|            _c5| _c6|        07| _c8|  14 LAWRENCE AVENUE|SMITHTOWN| NY|11787|1128a1|19880830|015|016|_c17|\n",
      "+----+----+---+------------------------+------------------+---------------+----+----------+----+--------------------+---------+---+-----+------+--------+---+---+----+\n",
      "|null|null|   |    143 MEDICAL EQUIP...|       DME COMPANY|   DME - OXYGEN|null|         0|null|    701 NW 36 AVENUE|    MIAMI| FL|33125|1128b7|19970620|  0|  0|null|\n",
      "|null|null|   |    184TH STREET PHAR...|    OTHER BUSINESS|       PHARMACY|null|1922348218|null|       69 E 184TH ST|    BRONX| NY|10468|1128a1|20180419|  0|  0|null|\n",
      "|null|null|   |    1951 FLATBUSH AVE...|          PHARMACY|           null|null|         0|null|   1951 FLATBUSH AVE| BROOKLYN| NY|11234|1128b5|20090319|  0|  0|null|\n",
      "|null|null|   |    1ST COMMUNITY HEA...|            CLINIC|           null|null|         0|null|  3138 W CERMAK ROAD|  CHICAGO| IL|60623|1128a1|19940524|  0|  0|null|\n",
      "|null|null|   |    1ST REHABILITATIO...|MANAGEMENT SVCS CO|           null|null|         0|null|C/O 3659 MAGUIRE ...|  ORLANDO| FL|32803|1128b8|20020919|  0|  0|null|\n",
      "|null|null|   |    2001 BATH AVENUE ...|    OTHER BUSINESS|       PHARMACY|null|         0|null|    2001 BATH AVENUE| BROOKLYN| NY|11214|1128a1|20110818|  0|  0|null|\n",
      "|null|null|   |      2258 PHARMACY, INC|          PHARMACY|           null|null|         0|null|      2258 THIRD AVE| NEW YORK| NY|10035|1128b8|20030720|  0|  0|null|\n",
      "|null|null|   |    227 NINTH AVENUE ...|          PHARMACY|           null|null|         0|null|         227 9TH AVE| NEW YORK| NY|10011|1128b5|19970903|  0|  0|null|\n",
      "|null|null|   |     3839 PHARMACY, INC.|          PHARMACY|           null|null|         0|null|       3839 BROADWAY| NEW YORK| NY|10032|1128a1|19910704|  0|  0|null|\n",
      "|null|null|   |         54-26 DRUG CORP|          PHARMACY|           null|null|         0|null|       1120 BROADWAY| BROOKLYN| NY|11221|1128b8|19861204|  0|  0|null|\n",
      "|null|null|   |    764 FRANKLIN AVE ...|          PHARMACY|           null|null|         0|null| 764 FRANKLIN AVENUE| BROOKLYN| NY|11238|1128a1|19911229|  0|  0|null|\n",
      "|null|null|   |    882 E 180TH STREE...|          PHARMACY|           null|null|         0|null|  882 E 180TH STREET|    BRONX| NY|10460|1128b4|19920903|  0|  0|null|\n",
      "|null|null|   |       A & A LIVERY, INC| TRANSPORTATION CO|           null|null|         0|null|   15 WALLACE STREET|  METHUEN| MA| 1844|1128a1|19930406|  0|  0|null|\n",
      "|null|null|   |    A & A MEDICAL CEN...|            CLINIC|           null|null|         0|null|8231 N W 8TH ST, ...|    MIAMI| FL|33128|1128b8|20010719|  0|  0|null|\n",
      "|null|null|   |     A & D PHARMACY, INC|          PHARMACY|           null|null|         0|null|      467 MYRTLE AVE| BROOKLYN| NY|11205|1128a1|19930208|  0|  0|null|\n",
      "|null|null|   |    A & H LEE PHARMAC...|          PHARMACY|           null|null|         0|null|        268 BROADWAY| BROOKLYN| NY|11211|1128a1|20020919|  0|  0|null|\n",
      "|null|null|   |    A & H VITAMINS SU...|    OTHER BUSINESS|       PHARMACY|null|         0|null| 592 PALISADE AVENUE|  TEANECK| NJ| 7666|1128a1|20180419|  0|  0|null|\n",
      "|null|null|   |       A & I HEALTH AIDS|       DME COMPANY|DME - ORTHOTICS|null|         0|null|516 SUNNYBROOK DRIVE|OCEANSIDE| NY|11572|1128b5|19960213|  0|  0|null|\n",
      "|null|null|   |      A & J MEDICAL CORP|            CLINIC|           null|null|         0|null|   2460 W 73RD PLACE|  HIALEAH| FL|33016|1128b8|20000320|  0|  0|null|\n",
      "|null|null|   |         A & M CARE, INC|HOME HEALTH AGENCY|           null|null|         0|null|  C/O 22 EVERETT AVE| OSSINING| NY|10562|1128a1|19970728|  0|  0|null|\n",
      "+----+----+---+------------------------+------------------+---------------+----+----------+----+--------------------+---------+---+-----+------+--------+---+---+----+\n",
      "only showing top 20 rows\n",
      "\n"
     ]
    }
   ],
   "source": [
    "IELE_rawdata.show()"
   ]
  },
  {
   "cell_type": "code",
   "execution_count": 14,
   "metadata": {},
   "outputs": [],
   "source": [
    "\n",
    "npi_fraud_df = IELE_rawdata.select ([\"npi\", \"EXCLTYPE\"])"
   ]
  },
  {
   "cell_type": "code",
   "execution_count": 15,
   "metadata": {},
   "outputs": [],
   "source": [
    "npi_fraud_df = npi_fraud_df.filter(npi_fraud_df.npi != 0)"
   ]
  },
  {
   "cell_type": "code",
   "execution_count": 16,
   "metadata": {},
   "outputs": [
    {
     "data": {
      "text/plain": [
       "<bound method DataFrame.printSchema of DataFrame[npi: int, EXCLTYPE: string]>"
      ]
     },
     "execution_count": 16,
     "metadata": {},
     "output_type": "execute_result"
    }
   ],
   "source": [
    "npi_fraud_df.printSchema"
   ]
  },
  {
   "cell_type": "code",
   "execution_count": 17,
   "metadata": {},
   "outputs": [],
   "source": [
    "npi_fraud_df = npi_fraud_df.withColumn(\"is_fraud\", npi_fraud_df[\"npi\"]/npi_fraud_df[\"npi\"] )"
   ]
  },
  {
   "cell_type": "code",
   "execution_count": 18,
   "metadata": {},
   "outputs": [],
   "source": [
    "npi_fraud_df = npi_fraud_df.withColumn(\"is_fraud\",npi_fraud_df[\"is_fraud\"].cast(IntegerType()))"
   ]
  },
  {
   "cell_type": "code",
   "execution_count": 36,
   "metadata": {},
   "outputs": [
    {
     "ename": "TypeError",
     "evalue": "'Column' object is not callable",
     "output_type": "error",
     "traceback": [
      "\u001b[0;31m---------------------------------------------------------------------------\u001b[0m",
      "\u001b[0;31mTypeError\u001b[0m                                 Traceback (most recent call last)",
      "\u001b[0;32m<ipython-input-36-64368712accd>\u001b[0m in \u001b[0;36m<module>\u001b[0;34m()\u001b[0m\n\u001b[0;32m----> 1\u001b[0;31m \u001b[0mnpi_fraud_df\u001b[0m\u001b[0;34m[\u001b[0m\u001b[0;34m'npi'\u001b[0m\u001b[0;34m]\u001b[0m\u001b[0;34m.\u001b[0m\u001b[0mcount\u001b[0m\u001b[0;34m(\u001b[0m\u001b[0;34m)\u001b[0m\u001b[0;34m\u001b[0m\u001b[0m\n\u001b[0m",
      "\u001b[0;31mTypeError\u001b[0m: 'Column' object is not callable"
     ]
    }
   ],
   "source": []
  },
  {
   "cell_type": "code",
   "execution_count": null,
   "metadata": {},
   "outputs": [],
   "source": [
    "# Opioid drugs"
   ]
  },
  {
   "cell_type": "code",
   "execution_count": null,
   "metadata": {},
   "outputs": [],
   "source": []
  },
  {
   "cell_type": "code",
   "execution_count": 19,
   "metadata": {},
   "outputs": [
    {
     "name": "stdout",
     "output_type": "stream",
     "text": [
      "root\n",
      " |-- npi: integer (nullable = true)\n",
      " |-- Gender: string (nullable = true)\n",
      " |-- State: string (nullable = true)\n",
      " |-- Credentials: string (nullable = true)\n",
      " |-- Specialty: string (nullable = true)\n",
      " |-- ABILIFY: integer (nullable = true)\n",
      " |-- ACETAMINOPHEN.CODEINE: integer (nullable = true)\n",
      " |-- ACYCLOVIR: integer (nullable = true)\n",
      " |-- ADVAIR.DISKUS: integer (nullable = true)\n",
      " |-- AGGRENOX: integer (nullable = true)\n",
      " |-- ALENDRONATE.SODIUM: integer (nullable = true)\n",
      " |-- ALLOPURINOL: integer (nullable = true)\n",
      " |-- ALPRAZOLAM: integer (nullable = true)\n",
      " |-- AMIODARONE.HCL: integer (nullable = true)\n",
      " |-- AMITRIPTYLINE.HCL: integer (nullable = true)\n",
      " |-- AMLODIPINE.BESYLATE: integer (nullable = true)\n",
      " |-- AMLODIPINE.BESYLATE.BENAZEPRIL: integer (nullable = true)\n",
      " |-- AMOXICILLIN: integer (nullable = true)\n",
      " |-- AMOX.TR.POTASSIUM.CLAVULANATE: integer (nullable = true)\n",
      " |-- AMPHETAMINE.SALT.COMBO: integer (nullable = true)\n",
      " |-- ATENOLOL: integer (nullable = true)\n",
      " |-- ATORVASTATIN.CALCIUM: integer (nullable = true)\n",
      " |-- AVODART: integer (nullable = true)\n",
      " |-- AZITHROMYCIN: integer (nullable = true)\n",
      " |-- BACLOFEN: integer (nullable = true)\n",
      " |-- BD.ULTRA.FINE.PEN.NEEDLE: integer (nullable = true)\n",
      " |-- BENAZEPRIL.HCL: integer (nullable = true)\n",
      " |-- BENICAR: integer (nullable = true)\n",
      " |-- BENICAR.HCT: integer (nullable = true)\n",
      " |-- BENZTROPINE.MESYLATE: integer (nullable = true)\n",
      " |-- BISOPROLOL.HYDROCHLOROTHIAZIDE: integer (nullable = true)\n",
      " |-- BRIMONIDINE.TARTRATE: integer (nullable = true)\n",
      " |-- BUMETANIDE: integer (nullable = true)\n",
      " |-- BUPROPION.HCL.SR: integer (nullable = true)\n",
      " |-- BUPROPION.XL: integer (nullable = true)\n",
      " |-- BUSPIRONE.HCL: integer (nullable = true)\n",
      " |-- BYSTOLIC: integer (nullable = true)\n",
      " |-- CARBAMAZEPINE: integer (nullable = true)\n",
      " |-- CARBIDOPA.LEVODOPA: integer (nullable = true)\n",
      " |-- CARISOPRODOL: integer (nullable = true)\n",
      " |-- CARTIA.XT: integer (nullable = true)\n",
      " |-- CARVEDILOL: integer (nullable = true)\n",
      " |-- CEFUROXIME: integer (nullable = true)\n",
      " |-- CELEBREX: integer (nullable = true)\n",
      " |-- CEPHALEXIN: integer (nullable = true)\n",
      " |-- CHLORHEXIDINE.GLUCONATE: integer (nullable = true)\n",
      " |-- CHLORTHALIDONE: integer (nullable = true)\n",
      " |-- CILOSTAZOL: integer (nullable = true)\n",
      " |-- CIPROFLOXACIN.HCL: integer (nullable = true)\n",
      " |-- CITALOPRAM.HBR: integer (nullable = true)\n",
      " |-- CLINDAMYCIN.HCL: integer (nullable = true)\n",
      " |-- CLOBETASOL.PROPIONATE: integer (nullable = true)\n",
      " |-- CLONAZEPAM: integer (nullable = true)\n",
      " |-- CLONIDINE.HCL: integer (nullable = true)\n",
      " |-- CLOPIDOGREL: integer (nullable = true)\n",
      " |-- CLOTRIMAZOLE.BETAMETHASONE: integer (nullable = true)\n",
      " |-- COLCRYS: integer (nullable = true)\n",
      " |-- COMBIVENT.RESPIMAT: integer (nullable = true)\n",
      " |-- CRESTOR: integer (nullable = true)\n",
      " |-- CYCLOBENZAPRINE.HCL: integer (nullable = true)\n",
      " |-- DEXILANT: integer (nullable = true)\n",
      " |-- DIAZEPAM: integer (nullable = true)\n",
      " |-- DICLOFENAC.SODIUM: integer (nullable = true)\n",
      " |-- DICYCLOMINE.HCL: integer (nullable = true)\n",
      " |-- DIGOX: integer (nullable = true)\n",
      " |-- DIGOXIN: integer (nullable = true)\n",
      " |-- DILTIAZEM.24HR.CD: integer (nullable = true)\n",
      " |-- DILTIAZEM.24HR.ER: integer (nullable = true)\n",
      " |-- DILTIAZEM.ER: integer (nullable = true)\n",
      " |-- DILTIAZEM.HCL: integer (nullable = true)\n",
      " |-- DIOVAN: integer (nullable = true)\n",
      " |-- DIPHENOXYLATE.ATROPINE: integer (nullable = true)\n",
      " |-- DIVALPROEX.SODIUM: integer (nullable = true)\n",
      " |-- DIVALPROEX.SODIUM.ER: integer (nullable = true)\n",
      " |-- DONEPEZIL.HCL: integer (nullable = true)\n",
      " |-- DORZOLAMIDE.TIMOLOL: integer (nullable = true)\n",
      " |-- DOXAZOSIN.MESYLATE: integer (nullable = true)\n",
      " |-- DOXEPIN.HCL: integer (nullable = true)\n",
      " |-- DOXYCYCLINE.HYCLATE: integer (nullable = true)\n",
      " |-- DULOXETINE.HCL: integer (nullable = true)\n",
      " |-- ENALAPRIL.MALEATE: integer (nullable = true)\n",
      " |-- ESCITALOPRAM.OXALATE: integer (nullable = true)\n",
      " |-- ESTRADIOL: integer (nullable = true)\n",
      " |-- EXELON: integer (nullable = true)\n",
      " |-- FAMOTIDINE: integer (nullable = true)\n",
      " |-- FELODIPINE.ER: integer (nullable = true)\n",
      " |-- FENOFIBRATE: integer (nullable = true)\n",
      " |-- FENTANYL: integer (nullable = true)\n",
      " |-- FINASTERIDE: integer (nullable = true)\n",
      " |-- FLOVENT.HFA: integer (nullable = true)\n",
      " |-- FLUCONAZOLE: integer (nullable = true)\n",
      " |-- FLUOXETINE.HCL: integer (nullable = true)\n",
      " |-- FLUTICASONE.PROPIONATE: integer (nullable = true)\n",
      " |-- FUROSEMIDE: integer (nullable = true)\n",
      " |-- GABAPENTIN: integer (nullable = true)\n",
      " |-- GEMFIBROZIL: integer (nullable = true)\n",
      " |-- GLIMEPIRIDE: integer (nullable = true)\n",
      " |-- GLIPIZIDE: integer (nullable = true)\n",
      " |-- GLIPIZIDE.ER: integer (nullable = true)\n",
      " |-- GLIPIZIDE.XL: integer (nullable = true)\n",
      " |-- GLYBURIDE: integer (nullable = true)\n",
      " |-- HALOPERIDOL: integer (nullable = true)\n",
      " |-- HUMALOG: integer (nullable = true)\n",
      " |-- HYDRALAZINE.HCL: integer (nullable = true)\n",
      " |-- HYDROCHLOROTHIAZIDE: integer (nullable = true)\n",
      " |-- HYDROCODONE.ACETAMINOPHEN: integer (nullable = true)\n",
      " |-- HYDROCORTISONE: integer (nullable = true)\n",
      " |-- HYDROMORPHONE.HCL: integer (nullable = true)\n",
      " |-- HYDROXYZINE.HCL: integer (nullable = true)\n",
      " |-- IBANDRONATE.SODIUM: integer (nullable = true)\n",
      " |-- IBUPROFEN: integer (nullable = true)\n",
      " |-- INSULIN.SYRINGE: integer (nullable = true)\n",
      " |-- IPRATROPIUM.BROMIDE: integer (nullable = true)\n",
      " |-- IRBESARTAN: integer (nullable = true)\n",
      " |-- ISOSORBIDE.MONONITRATE.ER: integer (nullable = true)\n",
      " |-- JANTOVEN: integer (nullable = true)\n",
      " |-- JANUMET: integer (nullable = true)\n",
      " |-- JANUVIA: integer (nullable = true)\n",
      " |-- KETOCONAZOLE: integer (nullable = true)\n",
      " |-- KLOR.CON.10: integer (nullable = true)\n",
      " |-- KLOR.CON.M10: integer (nullable = true)\n",
      " |-- KLOR.CON.M20: integer (nullable = true)\n",
      " |-- LABETALOL.HCL: integer (nullable = true)\n",
      " |-- LACTULOSE: integer (nullable = true)\n",
      " |-- LAMOTRIGINE: integer (nullable = true)\n",
      " |-- LANSOPRAZOLE: integer (nullable = true)\n",
      " |-- LANTUS: integer (nullable = true)\n",
      " |-- LANTUS.SOLOSTAR: integer (nullable = true)\n",
      " |-- LATANOPROST: integer (nullable = true)\n",
      " |-- LEVEMIR: integer (nullable = true)\n",
      " |-- LEVEMIR.FLEXPEN: integer (nullable = true)\n",
      " |-- LEVETIRACETAM: integer (nullable = true)\n",
      " |-- LEVOFLOXACIN: integer (nullable = true)\n",
      " |-- LEVOTHYROXINE.SODIUM: integer (nullable = true)\n",
      " |-- LIDOCAINE: integer (nullable = true)\n",
      " |-- LISINOPRIL: integer (nullable = true)\n",
      " |-- LISINOPRIL.HYDROCHLOROTHIAZIDE: integer (nullable = true)\n",
      " |-- LITHIUM.CARBONATE: integer (nullable = true)\n",
      " |-- LORAZEPAM: integer (nullable = true)\n",
      " |-- LOSARTAN.HYDROCHLOROTHIAZIDE: integer (nullable = true)\n",
      " |-- LOSARTAN.POTASSIUM: integer (nullable = true)\n",
      " |-- LOVASTATIN: integer (nullable = true)\n",
      " |-- LOVAZA: integer (nullable = true)\n",
      " |-- LUMIGAN: integer (nullable = true)\n",
      " |-- LYRICA: integer (nullable = true)\n",
      " |-- MECLIZINE.HCL: integer (nullable = true)\n",
      " |-- MELOXICAM: integer (nullable = true)\n",
      " |-- METFORMIN.HCL: integer (nullable = true)\n",
      " |-- METFORMIN.HCL.ER: integer (nullable = true)\n",
      " |-- METHADONE.HCL: integer (nullable = true)\n",
      " |-- METHOCARBAMOL: integer (nullable = true)\n",
      " |-- METHOTREXATE: integer (nullable = true)\n",
      " |-- METHYLPREDNISOLONE: integer (nullable = true)\n",
      " |-- METOCLOPRAMIDE.HCL: integer (nullable = true)\n",
      " |-- METOLAZONE: integer (nullable = true)\n",
      " |-- METOPROLOL.SUCCINATE: integer (nullable = true)\n",
      " |-- METOPROLOL.TARTRATE: integer (nullable = true)\n",
      " |-- METRONIDAZOLE: integer (nullable = true)\n",
      " |-- MIRTAZAPINE: integer (nullable = true)\n",
      " |-- MONTELUKAST.SODIUM: integer (nullable = true)\n",
      " |-- MORPHINE.SULFATE: integer (nullable = true)\n",
      " |-- MORPHINE.SULFATE.ER: integer (nullable = true)\n",
      " |-- MUPIROCIN: integer (nullable = true)\n",
      " |-- NABUMETONE: integer (nullable = true)\n",
      " |-- NAMENDA: integer (nullable = true)\n",
      " |-- NAMENDA.XR: integer (nullable = true)\n",
      " |-- NAPROXEN: integer (nullable = true)\n",
      " |-- NASONEX: integer (nullable = true)\n",
      " |-- NEXIUM: integer (nullable = true)\n",
      " |-- NIACIN.ER: integer (nullable = true)\n",
      " |-- NIFEDICAL.XL: integer (nullable = true)\n",
      " |-- NIFEDIPINE.ER: integer (nullable = true)\n",
      " |-- NITROFURANTOIN.MONO.MACRO: integer (nullable = true)\n",
      " |-- NITROSTAT: integer (nullable = true)\n",
      " |-- NORTRIPTYLINE.HCL: integer (nullable = true)\n",
      " |-- NOVOLOG: integer (nullable = true)\n",
      " |-- NOVOLOG.FLEXPEN: integer (nullable = true)\n",
      " |-- NYSTATIN: integer (nullable = true)\n",
      " |-- OLANZAPINE: integer (nullable = true)\n",
      " |-- OMEPRAZOLE: integer (nullable = true)\n",
      " |-- ONDANSETRON.HCL: integer (nullable = true)\n",
      " |-- ONDANSETRON.ODT: integer (nullable = true)\n",
      " |-- ONGLYZA: integer (nullable = true)\n",
      " |-- OXCARBAZEPINE: integer (nullable = true)\n",
      " |-- OXYBUTYNIN.CHLORIDE: integer (nullable = true)\n",
      " |-- OXYBUTYNIN.CHLORIDE.ER: integer (nullable = true)\n",
      " |-- OXYCODONE.ACETAMINOPHEN: integer (nullable = true)\n",
      " |-- OXYCODONE.HCL: integer (nullable = true)\n",
      " |-- OXYCONTIN: integer (nullable = true)\n",
      " |-- PANTOPRAZOLE.SODIUM: integer (nullable = true)\n",
      " |-- PAROXETINE.HCL: integer (nullable = true)\n",
      " |-- PHENOBARBITAL: integer (nullable = true)\n",
      " |-- PHENYTOIN.SODIUM.EXTENDED: integer (nullable = true)\n",
      " |-- PIOGLITAZONE.HCL: integer (nullable = true)\n",
      " |-- POLYETHYLENE.GLYCOL.3350: integer (nullable = true)\n",
      " |-- POTASSIUM.CHLORIDE: integer (nullable = true)\n",
      " |-- PRADAXA: integer (nullable = true)\n",
      " |-- PRAMIPEXOLE.DIHYDROCHLORIDE: integer (nullable = true)\n",
      " |-- PRAVASTATIN.SODIUM: integer (nullable = true)\n",
      " |-- PREDNISONE: integer (nullable = true)\n",
      " |-- PREMARIN: integer (nullable = true)\n",
      " |-- PRIMIDONE: integer (nullable = true)\n",
      " |-- PROAIR.HFA: integer (nullable = true)\n",
      " |-- PROMETHAZINE.HCL: integer (nullable = true)\n",
      " |-- PROPRANOLOL.HCL: integer (nullable = true)\n",
      " |-- PROPRANOLOL.HCL.ER: integer (nullable = true)\n",
      " |-- QUETIAPINE.FUMARATE: integer (nullable = true)\n",
      " |-- QUINAPRIL.HCL: integer (nullable = true)\n",
      " |-- RALOXIFENE.HCL: integer (nullable = true)\n",
      " |-- RAMIPRIL: integer (nullable = true)\n",
      " |-- RANEXA: integer (nullable = true)\n",
      " |-- RANITIDINE.HCL: integer (nullable = true)\n",
      " |-- RESTASIS: integer (nullable = true)\n",
      " |-- RISPERIDONE: integer (nullable = true)\n",
      " |-- ROPINIROLE.HCL: integer (nullable = true)\n",
      " |-- SEROQUEL.XR: integer (nullable = true)\n",
      " |-- SERTRALINE.HCL: integer (nullable = true)\n",
      " |-- SIMVASTATIN: integer (nullable = true)\n",
      " |-- SOTALOL: integer (nullable = true)\n",
      " |-- SPIRIVA: integer (nullable = true)\n",
      " |-- SPIRONOLACTONE: integer (nullable = true)\n",
      " |-- SUCRALFATE: integer (nullable = true)\n",
      " |-- SULFAMETHOXAZOLE.TRIMETHOPRIM: integer (nullable = true)\n",
      " |-- SUMATRIPTAN.SUCCINATE: integer (nullable = true)\n",
      " |-- SYMBICORT: integer (nullable = true)\n",
      " |-- SYNTHROID: integer (nullable = true)\n",
      " |-- TAMSULOSIN.HCL: integer (nullable = true)\n",
      " |-- TEMAZEPAM: integer (nullable = true)\n",
      " |-- TERAZOSIN.HCL: integer (nullable = true)\n",
      " |-- TIMOLOL.MALEATE: integer (nullable = true)\n",
      " |-- TIZANIDINE.HCL: integer (nullable = true)\n",
      " |-- TOLTERODINE.TARTRATE.ER: integer (nullable = true)\n",
      " |-- TOPIRAMATE: integer (nullable = true)\n",
      " |-- TOPROL.XL: integer (nullable = true)\n",
      " |-- TORSEMIDE: integer (nullable = true)\n",
      " |-- TRAMADOL.HCL: integer (nullable = true)\n",
      " |-- TRAVATAN.Z: integer (nullable = true)\n",
      " |-- TRAZODONE.HCL: integer (nullable = true)\n",
      " |-- TRIAMCINOLONE.ACETONIDE: integer (nullable = true)\n",
      " |-- TRIAMTERENE.HYDROCHLOROTHIAZID: integer (nullable = true)\n",
      " |-- VALACYCLOVIR: integer (nullable = true)\n",
      " |-- VALSARTAN: integer (nullable = true)\n",
      " |-- VALSARTAN.HYDROCHLOROTHIAZIDE: integer (nullable = true)\n",
      " |-- VENLAFAXINE.HCL: integer (nullable = true)\n",
      " |-- VENLAFAXINE.HCL.ER: integer (nullable = true)\n",
      " |-- VENTOLIN.HFA: integer (nullable = true)\n",
      " |-- VERAPAMIL.ER: integer (nullable = true)\n",
      " |-- VESICARE: integer (nullable = true)\n",
      " |-- VOLTAREN: integer (nullable = true)\n",
      " |-- VYTORIN: integer (nullable = true)\n",
      " |-- WARFARIN.SODIUM: integer (nullable = true)\n",
      " |-- XARELTO: integer (nullable = true)\n",
      " |-- ZETIA: integer (nullable = true)\n",
      " |-- ZIPRASIDONE.HCL: integer (nullable = true)\n",
      " |-- ZOLPIDEM.TARTRATE: integer (nullable = true)\n",
      " |-- is_Opioid_Prescriber: integer (nullable = true)\n",
      "\n"
     ]
    }
   ],
   "source": [
    "Opioids_Prescriber.printSchema()"
   ]
  },
  {
   "cell_type": "code",
   "execution_count": 20,
   "metadata": {},
   "outputs": [],
   "source": [
    "Opioids_Prescriber_npi_df = Opioids_Prescriber.select ([\"npi\",\"Specialty\",\"is_Opioid_Prescriber\"])"
   ]
  },
  {
   "cell_type": "code",
   "execution_count": 21,
   "metadata": {},
   "outputs": [
    {
     "name": "stdout",
     "output_type": "stream",
     "text": [
      "+----------+-------------------+--------------------+\n",
      "|       npi|          Specialty|is_Opioid_Prescriber|\n",
      "+----------+-------------------+--------------------+\n",
      "|1710982582|            Dentist|                   1|\n",
      "|1245278100|    General Surgery|                   1|\n",
      "|1427182161|   General Practice|                   0|\n",
      "|1669567541|  Internal Medicine|                   1|\n",
      "|1679650949|Hematology/Oncology|                   1|\n",
      "|1548580897|    General Surgery|                   1|\n",
      "|1437192002|    Family Practice|                   1|\n",
      "|1407113988| Nurse Practitioner|                   0|\n",
      "|1023260569|          Optometry|                   0|\n",
      "|1821106832|  Internal Medicine|                   1|\n",
      "|1609931914|   General Practice|                   1|\n",
      "|1659334472|    General Surgery|                   1|\n",
      "|1144205303|    Family Practice|                   1|\n",
      "|1548275050|         Cardiology|                   0|\n",
      "|1952598419|Hematology/Oncology|                   1|\n",
      "|1780661793|    General Surgery|                   1|\n",
      "|1356388011|  Internal Medicine|                   0|\n",
      "|1588788921|Hematology/Oncology|                   0|\n",
      "|1548238389|    General Surgery|                   1|\n",
      "|1366582587|            Dentist|                   1|\n",
      "+----------+-------------------+--------------------+\n",
      "only showing top 20 rows\n",
      "\n"
     ]
    }
   ],
   "source": [
    "Opioids_Prescriber_npi_df.show()"
   ]
  },
  {
   "cell_type": "code",
   "execution_count": 28,
   "metadata": {},
   "outputs": [],
   "source": [
    "df =  npi_fraud_df.join(Opioids_Prescriber_npi_df, (Opioids_Prescriber_npi_df.npi == npi_fraud_df.npi))"
   ]
  },
  {
   "cell_type": "code",
   "execution_count": 29,
   "metadata": {},
   "outputs": [
    {
     "name": "stdout",
     "output_type": "stream",
     "text": [
      "root\n",
      " |-- npi: integer (nullable = true)\n",
      " |-- EXCLTYPE: string (nullable = true)\n",
      " |-- is_fraud: integer (nullable = true)\n",
      " |-- npi: integer (nullable = true)\n",
      " |-- Specialty: string (nullable = true)\n",
      " |-- is_Opioid_Prescriber: integer (nullable = true)\n",
      "\n"
     ]
    }
   ],
   "source": [
    "df.printSchema()"
   ]
  },
  {
   "cell_type": "code",
   "execution_count": 30,
   "metadata": {},
   "outputs": [],
   "source": [
    "\n",
    "sqlContext.registerDataFrameAsTable(payment_features_gourpbyTotal_df,\"payment_table\")\n",
    "payment_df = sqlContext.sql(\"Select * from payment_table\")\n"
   ]
  },
  {
   "cell_type": "code",
   "execution_count": 31,
   "metadata": {},
   "outputs": [],
   "source": [
    "sqlContext.registerDataFrameAsTable(partD_Drug_featuresGroupbyNPI_df,\"partD_table\")\n",
    "partD_df = sqlContext.sql(\"Select * from partD_table\")"
   ]
  },
  {
   "cell_type": "code",
   "execution_count": 32,
   "metadata": {},
   "outputs": [],
   "source": [
    "sqlContext.registerDataFrameAsTable(npi_fraud_df,\"npi_fraud_table\")\n",
    "npifraud_df = sqlContext.sql(\"Select * from npi_fraud_table\")"
   ]
  },
  {
   "cell_type": "code",
   "execution_count": 33,
   "metadata": {},
   "outputs": [],
   "source": [
    "sqlContext.registerDataFrameAsTable(Opioids_Prescriber_npi_df,\"npi_opioids_table\")\n",
    "npiopioids_df = sqlContext.sql(\"Select * from npi_opioids_table\")"
   ]
  },
  {
   "cell_type": "code",
   "execution_count": null,
   "metadata": {},
   "outputs": [],
   "source": [
    "features_df = sqlContext.sql (\"select npi \")\n"
   ]
  },
  {
   "cell_type": "code",
   "execution_count": null,
   "metadata": {},
   "outputs": [],
   "source": [
    "SELECT npi\n",
    "FROM (\n",
    "    SELECT distinct npi , \"first_name\" , \"last_name\", \"city\" ,\"state\"\n",
    "    FROM payment_table\n",
    "    ) npis \n",
    "    \n",
    "LEFT JOIN  payments pay\n",
    "ON npis.\"NPPES_PROVIDER_FIRST_NAME\" = pay.\"Physician_First_Name\"\n",
    "AND npis.\"NPPES_PROVIDER_LAST_ORG_NAME\" = pay.\"Physician_Last_Name\"\n",
    "AND npis.\"NPPES_PROVIDER_CITY\" = pay.\"Recipient_City\"\n",
    "AND npis.\"NPPES_PROVIDER_STATE\" = pay.\"Recipient_State\"\n",
    "\n",
    "GROUP BY npi\n",
    ";"
   ]
  },
  {
   "cell_type": "code",
   "execution_count": null,
   "metadata": {},
   "outputs": [],
   "source": []
  },
  {
   "cell_type": "code",
   "execution_count": null,
   "metadata": {},
   "outputs": [],
   "source": []
  }
 ],
 "metadata": {
  "kernelspec": {
   "display_name": "Python 3",
   "language": "python",
   "name": "python3"
  },
  "language_info": {
   "codemirror_mode": {
    "name": "ipython",
    "version": 3
   },
   "file_extension": ".py",
   "mimetype": "text/x-python",
   "name": "python",
   "nbconvert_exporter": "python",
   "pygments_lexer": "ipython3",
   "version": "3.6.5"
  }
 },
 "nbformat": 4,
 "nbformat_minor": 2
}
